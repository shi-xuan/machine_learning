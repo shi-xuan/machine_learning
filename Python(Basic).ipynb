{
 "cells": [
  {
   "cell_type": "markdown",
   "metadata": {},
   "source": [
    "第二章"
   ]
  },
  {
   "cell_type": "code",
   "execution_count": null,
   "metadata": {},
   "outputs": [],
   "source": [
    "註解"
   ]
  },
  {
   "cell_type": "code",
   "execution_count": 1,
   "metadata": {},
   "outputs": [
    {
     "name": "stdout",
     "output_type": "stream",
     "text": [
      "100\n"
     ]
    }
   ],
   "source": [
    "\n",
    "#單行註解\n",
    "\n",
    "'''\n",
    "多行\n",
    "註解\n",
    "'''\n"
   ]
  },
  {
   "cell_type": "code",
   "execution_count": 1,
   "metadata": {},
   "outputs": [
    {
     "name": "stdout",
     "output_type": "stream",
     "text": [
      "100\n",
      "11\n",
      "10\n"
     ]
    }
   ],
   "source": [
    "#變數的設定\n",
    "a=100\n",
    "print(a)\n",
    "\n",
    "x=1\n",
    "y=10*x\n",
    "x=x+y\n",
    "print(x)\n",
    "print(y)"
   ]
  },
  {
   "cell_type": "code",
   "execution_count": 4,
   "metadata": {},
   "outputs": [
    {
     "name": "stdout",
     "output_type": "stream",
     "text": [
      "3\n",
      "4\n",
      "5\n"
     ]
    }
   ],
   "source": [
    "#平行設定\n",
    "x,y,z=3,4,5\n",
    "print(x)\n",
    "print(y)\n",
    "print(z)"
   ]
  },
  {
   "cell_type": "code",
   "execution_count": 5,
   "metadata": {},
   "outputs": [
    {
     "name": "stdout",
     "output_type": "stream",
     "text": [
      "4\n",
      "3\n"
     ]
    }
   ],
   "source": [
    "#平行設定能直接通過設定運算式交換兩個變數的值\n",
    "x,y,z=3,4,5\n",
    "y,x=x,y\n",
    "print(x)\n",
    "print(y)"
   ]
  },
  {
   "cell_type": "code",
   "execution_count": 12,
   "metadata": {},
   "outputs": [
    {
     "name": "stdout",
     "output_type": "stream",
     "text": [
      "4 8 125\n"
     ]
    }
   ],
   "source": [
    "#複合設定運算\n",
    "x,y,z=3,4,5\n",
    "x+=1   #x=x+1\n",
    "y*=2   #y=y*2\n",
    "z**=3  #z=z**3(三次方)  **4(四次方)\n",
    "print(x,y,z)"
   ]
  },
  {
   "cell_type": "code",
   "execution_count": 3,
   "metadata": {},
   "outputs": [
    {
     "data": {
      "text/plain": [
       "6.0"
      ]
     },
     "execution_count": 3,
     "metadata": {},
     "output_type": "execute_result"
    }
   ],
   "source": [
    "#海倫公式\n",
    "import math\n",
    "s=(3+4+5)/2\n",
    "math.sqrt(s*(s-3)*(s-4)*(s-5))\n"
   ]
  },
  {
   "cell_type": "code",
   "execution_count": 15,
   "metadata": {},
   "outputs": [
    {
     "name": "stdout",
     "output_type": "stream",
     "text": [
      "126.8857754044952\n"
     ]
    }
   ],
   "source": [
    "import math\n",
    "a,b,c=12,33,25\n",
    "s=(a+b+c)/2\n",
    "area=math.sqrt(s*(s-a)*(s-b)*(s-c))\n",
    "print(area)"
   ]
  },
  {
   "cell_type": "code",
   "execution_count": 16,
   "metadata": {},
   "outputs": [
    {
     "name": "stdout",
     "output_type": "stream",
     "text": [
      "<class 'int'>\n"
     ]
    },
    {
     "data": {
      "text/plain": [
       "1869581696"
      ]
     },
     "execution_count": 16,
     "metadata": {},
     "output_type": "execute_result"
    }
   ],
   "source": [
    "#資料型態\n",
    "x=254\n",
    "print(type(x))\n",
    "id(x)"
   ]
  },
  {
   "cell_type": "code",
   "execution_count": 18,
   "metadata": {},
   "outputs": [
    {
     "name": "stdout",
     "output_type": "stream",
     "text": [
      "<class 'str'>\n"
     ]
    },
    {
     "data": {
      "text/plain": [
       "3436704"
      ]
     },
     "execution_count": 18,
     "metadata": {},
     "output_type": "execute_result"
    }
   ],
   "source": [
    "x=\"write\"\n",
    "print(type(x))\n",
    "id(x)"
   ]
  },
  {
   "cell_type": "code",
   "execution_count": 19,
   "metadata": {},
   "outputs": [
    {
     "name": "stdout",
     "output_type": "stream",
     "text": [
      "95\n",
      "7\n",
      "255\n"
     ]
    }
   ],
   "source": [
    "#整數資料int\n",
    "print(0o137)  #八進位\n",
    "print(0b111)  #十進位\n",
    "print(0xff)   #十六進位\n"
   ]
  },
  {
   "cell_type": "code",
   "execution_count": 2,
   "metadata": {},
   "outputs": [
    {
     "name": "stdout",
     "output_type": "stream",
     "text": [
      "<class 'int'>\n",
      "<class 'float'>\n",
      "0.000899\n",
      "<class 'float'>\n",
      "21.904761904761905\n"
     ]
    }
   ],
   "source": [
    "#浮點數\n",
    "print(type(12))\n",
    "print(type(12.0))\n",
    "print(8.99e-4)\n",
    "print(type(1.2e1))\n",
    "print(23/1.05)"
   ]
  },
  {
   "cell_type": "code",
   "execution_count": 3,
   "metadata": {},
   "outputs": [
    {
     "name": "stdout",
     "output_type": "stream",
     "text": [
      "<class 'bool'>\n",
      "False\n",
      "True\n"
     ]
    }
   ],
   "source": [
    "#布林 bool\n",
    "print(type(True))\n",
    "x,y=10,20\n",
    "print(x>y)\n",
    "print(x+10<=y)"
   ]
  },
  {
   "cell_type": "code",
   "execution_count": 6,
   "metadata": {
    "scrolled": false
   },
   "outputs": [
    {
     "name": "stdout",
     "output_type": "stream",
     "text": [
      "(4.25+8.5j)\n",
      "4.25\n",
      "8.5\n",
      "(4.25-8.5j)\n"
     ]
    }
   ],
   "source": [
    "#複數類型資料complex\n",
    "aComplex=4.25+8.5j\n",
    "print(aComplex)\n",
    "print(aComplex.real)   #num.real 回傳複數的實數部分\n",
    "print(aComplex.imag)   #num.imag 回傳複數的虛數部分\n",
    "print(aComplex.conjugate())   #num.conjugate() 回傳複數的共軛複數"
   ]
  }
 ],
 "metadata": {
  "kernelspec": {
   "display_name": "Python 3",
   "language": "python",
   "name": "python3"
  },
  "language_info": {
   "codemirror_mode": {
    "name": "ipython",
    "version": 3
   },
   "file_extension": ".py",
   "mimetype": "text/x-python",
   "name": "python",
   "nbconvert_exporter": "python",
   "pygments_lexer": "ipython3",
   "version": "3.6.5"
  }
 },
 "nbformat": 4,
 "nbformat_minor": 2
}
